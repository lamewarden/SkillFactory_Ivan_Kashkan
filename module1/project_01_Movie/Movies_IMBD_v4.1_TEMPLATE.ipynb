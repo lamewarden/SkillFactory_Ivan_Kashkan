{
 "cells": [
  {
   "cell_type": "code",
   "execution_count": 1,
   "metadata": {
    "_cell_guid": "b1076dfc-b9ad-4769-8c92-a6c4dae69d19",
    "_uuid": "8f2839f25d086af736a60e9eeb907d3b93b6e0e5",
    "colab": {},
    "colab_type": "code",
    "id": "U2D2gTdJVp90"
   },
   "outputs": [],
   "source": [
    "import numpy as np\n",
    "import pandas as pd\n",
    "import seaborn as sns\n",
    "import matplotlib.pyplot as plt\n",
    "#from collections import Counter\n",
    "import collections"
   ]
  },
  {
   "cell_type": "code",
   "execution_count": 2,
   "metadata": {
    "_cell_guid": "79c7e3d0-c299-4dcb-8224-4455121ee9b0",
    "_uuid": "d629ff2d2480ee46fbb7e2d37f6b5fab8052498a",
    "colab": {},
    "colab_type": "code",
    "id": "oyGfxL3eVp9-"
   },
   "outputs": [],
   "source": [
    "data = pd.read_csv('movie_bd_v5.csv')"
   ]
  },
  {
   "cell_type": "markdown",
   "metadata": {
    "colab_type": "text",
    "id": "DTIt7ezGVp-G"
   },
   "source": [
    "# Предобработка"
   ]
  },
  {
   "cell_type": "code",
   "execution_count": 25,
   "metadata": {
    "colab": {},
    "colab_type": "code",
    "id": "jNb40DwKVp-H"
   },
   "outputs": [],
   "source": [
    "answers = {} # создадим словарь для ответов\n"
   ]
  },
  {
   "cell_type": "code",
   "execution_count": 56,
   "metadata": {},
   "outputs": [],
   "source": [
    "# лучше их все таки разделять, чтоб не обнулять каждый раз словарь с ответами\n",
    "\n",
    "\n",
    "# 6. Updating data with profit column\n",
    "data['profit'] = data['revenue'] - data['budget']\n",
    "\n",
    "\n",
    "# 11.\n",
    "def unique_names_counter(df, location):\n",
    "    # Universal counter for pd.Series with complex \"|\" splitted values\n",
    "    c = collections.Counter()\n",
    "    for category in df[location]:\n",
    "        for subcat in category.split('|'):\n",
    "            c[subcat] += 1\n",
    "    return c\n",
    "    \n",
    "\n",
    "# 13. Profitable df\n",
    "profitable_data = data[data['profit'] > 0]\n",
    "\n",
    "\n",
    "# 25.\n",
    "def sum_words(desc):\n",
    "    # separates words by ' ' and counts them for each element of pd.Series\n",
    "    descr_list = []\n",
    "    for a in desc:\n",
    "        descr_list.append(len(a.split(' ')))\n",
    "    return np.mean(descr_list)  \n",
    "\n",
    "# 27.\n",
    "def cast_corresponder(x):\n",
    "    # For each actor creates a fused str of co-actors he ever met in all movies(separated with '|')\n",
    "    for a in x.split('|'):\n",
    "        if a in cast_dict:\n",
    "            cast_dict[a]=cast_dict[a]+'|'+x\n",
    "        elif a not in cast_dict:\n",
    "            cast_dict[a] = x\n",
    "            return cast_dict"
   ]
  },
  {
   "cell_type": "markdown",
   "metadata": {
    "colab_type": "text",
    "id": "YxZaH-nPVp-L"
   },
   "source": [
    "# 1. У какого фильма из списка самый большой бюджет?"
   ]
  },
  {
   "cell_type": "markdown",
   "metadata": {
    "colab_type": "text",
    "id": "Nd-G5gX6Vp-M"
   },
   "source": [
    "Использовать варианты ответов в коде решения запрещено.    \n",
    "Вы думаете и в жизни у вас будут варианты ответов?)"
   ]
  },
  {
   "cell_type": "code",
   "execution_count": 26,
   "metadata": {
    "colab": {},
    "colab_type": "code",
    "id": "uVnXAY5RVp-O"
   },
   "outputs": [
    {
     "name": "stdout",
     "output_type": "stream",
     "text": [
      "{'1': '5. Pirates of the Caribbean: On Stranger Tides'}\n"
     ]
    }
   ],
   "source": [
    "# в словарь вставляем номер вопроса и ваш ответ на него\n",
    "# Пример: \n",
    "answers['1'] = '5. Pirates of the Caribbean: On Stranger Tides'\n",
    "# запишите свой вариант ответа\n",
    "#answers['1'] = '...'\n",
    "# если ответили верно, можете добавить комментарий со значком \"+\"\n",
    "print(answers)"
   ]
  },
  {
   "cell_type": "code",
   "execution_count": 9,
   "metadata": {
    "colab": {},
    "colab_type": "code",
    "id": "dZwb3m28Vp-S"
   },
   "outputs": [
    {
     "data": {
      "text/plain": [
       "723    Pirates of the Caribbean: On Stranger Tides\n",
       "Name: original_title, dtype: object"
      ]
     },
     "execution_count": 9,
     "metadata": {},
     "output_type": "execute_result"
    }
   ],
   "source": [
    "data[data['budget'] == data['budget'].max()].original_title\n",
    "# тут пишем ваш код для решения данного вопроса:"
   ]
  },
  {
   "cell_type": "markdown",
   "metadata": {
    "colab_type": "text",
    "id": "K7L3nbRXVp-X"
   },
   "source": [
    "ВАРИАНТ 2"
   ]
  },
  {
   "cell_type": "code",
   "execution_count": 11,
   "metadata": {},
   "outputs": [
    {
     "data": {
      "text/plain": [
       "723    Pirates of the Caribbean: On Stranger Tides\n",
       "Name: original_title, dtype: object"
      ]
     },
     "execution_count": 11,
     "metadata": {},
     "output_type": "execute_result"
    }
   ],
   "source": [
    "data.query('budget == budget.max()')['original_title']"
   ]
  },
  {
   "cell_type": "markdown",
   "metadata": {
    "colab_type": "text",
    "id": "FNRbbI3vVp-c"
   },
   "source": [
    "# 2. Какой из фильмов самый длительный (в минутах)?"
   ]
  },
  {
   "cell_type": "code",
   "execution_count": 27,
   "metadata": {
    "colab": {},
    "colab_type": "code",
    "id": "vHAoEXNTVp-d"
   },
   "outputs": [
    {
     "name": "stdout",
     "output_type": "stream",
     "text": [
      "{'1': '5. Pirates of the Caribbean: On Stranger Tides', '2': '2. Gods and Generals'}\n"
     ]
    }
   ],
   "source": [
    "# думаю логику работы с этим словарем вы уже поняли, \n",
    "# по этому не буду больше его дублировать\n",
    "answers['2'] = '2. Gods and Generals'\n",
    "print(answers)"
   ]
  },
  {
   "cell_type": "code",
   "execution_count": 12,
   "metadata": {
    "colab": {},
    "colab_type": "code",
    "id": "ot-VX2XrVp-g"
   },
   "outputs": [
    {
     "data": {
      "text/html": [
       "<div>\n",
       "<style scoped>\n",
       "    .dataframe tbody tr th:only-of-type {\n",
       "        vertical-align: middle;\n",
       "    }\n",
       "\n",
       "    .dataframe tbody tr th {\n",
       "        vertical-align: top;\n",
       "    }\n",
       "\n",
       "    .dataframe thead th {\n",
       "        text-align: right;\n",
       "    }\n",
       "</style>\n",
       "<table border=\"1\" class=\"dataframe\">\n",
       "  <thead>\n",
       "    <tr style=\"text-align: right;\">\n",
       "      <th></th>\n",
       "      <th>original_title</th>\n",
       "      <th>runtime</th>\n",
       "    </tr>\n",
       "  </thead>\n",
       "  <tbody>\n",
       "    <tr>\n",
       "      <th>1157</th>\n",
       "      <td>Gods and Generals</td>\n",
       "      <td>214</td>\n",
       "    </tr>\n",
       "  </tbody>\n",
       "</table>\n",
       "</div>"
      ],
      "text/plain": [
       "         original_title  runtime\n",
       "1157  Gods and Generals      214"
      ]
     },
     "execution_count": 12,
     "metadata": {},
     "output_type": "execute_result"
    }
   ],
   "source": [
    "data[data['runtime'] == data['runtime'].max()][['original_title', 'runtime']]"
   ]
  },
  {
   "cell_type": "code",
   "execution_count": 13,
   "metadata": {},
   "outputs": [
    {
     "data": {
      "text/html": [
       "<div>\n",
       "<style scoped>\n",
       "    .dataframe tbody tr th:only-of-type {\n",
       "        vertical-align: middle;\n",
       "    }\n",
       "\n",
       "    .dataframe tbody tr th {\n",
       "        vertical-align: top;\n",
       "    }\n",
       "\n",
       "    .dataframe thead th {\n",
       "        text-align: right;\n",
       "    }\n",
       "</style>\n",
       "<table border=\"1\" class=\"dataframe\">\n",
       "  <thead>\n",
       "    <tr style=\"text-align: right;\">\n",
       "      <th></th>\n",
       "      <th>original_title</th>\n",
       "      <th>runtime</th>\n",
       "    </tr>\n",
       "  </thead>\n",
       "  <tbody>\n",
       "    <tr>\n",
       "      <th>1157</th>\n",
       "      <td>Gods and Generals</td>\n",
       "      <td>214</td>\n",
       "    </tr>\n",
       "  </tbody>\n",
       "</table>\n",
       "</div>"
      ],
      "text/plain": [
       "         original_title  runtime\n",
       "1157  Gods and Generals      214"
      ]
     },
     "execution_count": 13,
     "metadata": {},
     "output_type": "execute_result"
    }
   ],
   "source": [
    "data.query('runtime == runtime.max()')[['original_title', 'runtime']] "
   ]
  },
  {
   "cell_type": "markdown",
   "metadata": {
    "colab_type": "text",
    "id": "bapLlpW8Vp-k"
   },
   "source": [
    "# 3. Какой из фильмов самый короткий (в минутах)?\n",
    "\n",
    "\n",
    "\n"
   ]
  },
  {
   "cell_type": "code",
   "execution_count": 28,
   "metadata": {},
   "outputs": [
    {
     "name": "stdout",
     "output_type": "stream",
     "text": [
      "{'1': '5. Pirates of the Caribbean: On Stranger Tides', '2': '2. Gods and Generals', '3': '3. Winnie the Pooh'}\n"
     ]
    }
   ],
   "source": [
    "answers['3'] = '3. Winnie the Pooh'\n",
    "print(answers)"
   ]
  },
  {
   "cell_type": "code",
   "execution_count": 15,
   "metadata": {
    "colab": {},
    "colab_type": "code",
    "id": "YBxaSHuAVp-l"
   },
   "outputs": [
    {
     "data": {
      "text/plain": [
       "768    Winnie the Pooh\n",
       "Name: original_title, dtype: object"
      ]
     },
     "execution_count": 15,
     "metadata": {},
     "output_type": "execute_result"
    }
   ],
   "source": [
    "data[data['runtime'] == data['runtime'].min()]['original_title']"
   ]
  },
  {
   "cell_type": "markdown",
   "metadata": {
    "colab_type": "text",
    "id": "TfQbxbfNVp-p"
   },
   "source": [
    "# 4. Какова средняя длительность фильмов?\n"
   ]
  },
  {
   "cell_type": "code",
   "execution_count": 29,
   "metadata": {},
   "outputs": [
    {
     "name": "stdout",
     "output_type": "stream",
     "text": [
      "{'1': '5. Pirates of the Caribbean: On Stranger Tides', '2': '2. Gods and Generals', '3': '3. Winnie the Pooh', '4': '2. 110'}\n"
     ]
    }
   ],
   "source": [
    "answers['4'] = '2. 110'\n",
    "print(answers)"
   ]
  },
  {
   "cell_type": "code",
   "execution_count": 17,
   "metadata": {
    "colab": {},
    "colab_type": "code",
    "id": "5K6dKZYVVp-q"
   },
   "outputs": [
    {
     "data": {
      "text/plain": [
       "110"
      ]
     },
     "execution_count": 17,
     "metadata": {},
     "output_type": "execute_result"
    }
   ],
   "source": [
    "round(data['runtime'].mean())"
   ]
  },
  {
   "cell_type": "markdown",
   "metadata": {
    "colab_type": "text",
    "id": "r5TvbnT_Vp-u"
   },
   "source": [
    "# 5. Каково медианное значение длительности фильмов? "
   ]
  },
  {
   "cell_type": "code",
   "execution_count": 30,
   "metadata": {},
   "outputs": [
    {
     "name": "stdout",
     "output_type": "stream",
     "text": [
      "{'1': '5. Pirates of the Caribbean: On Stranger Tides', '2': '2. Gods and Generals', '3': '3. Winnie the Pooh', '4': '2. 110', '5': '1. 107'}\n"
     ]
    }
   ],
   "source": [
    "answers['5'] = '1. 107'\n",
    "print(answers)"
   ]
  },
  {
   "cell_type": "code",
   "execution_count": 19,
   "metadata": {
    "colab": {},
    "colab_type": "code",
    "id": "iBROplKnVp-v"
   },
   "outputs": [
    {
     "data": {
      "text/plain": [
       "107"
      ]
     },
     "execution_count": 19,
     "metadata": {},
     "output_type": "execute_result"
    }
   ],
   "source": [
    "round(data['runtime'].median())"
   ]
  },
  {
   "cell_type": "markdown",
   "metadata": {
    "colab_type": "text",
    "id": "39P-deDSVp-y"
   },
   "source": [
    "# 6. Какой самый прибыльный фильм?\n",
    "#### Внимание! Здесь и далее под «прибылью» или «убытками» понимается разность между сборами и бюджетом фильма. (прибыль = сборы - бюджет) в нашем датасете это будет (profit = revenue - budget) "
   ]
  },
  {
   "cell_type": "code",
   "execution_count": 31,
   "metadata": {},
   "outputs": [
    {
     "name": "stdout",
     "output_type": "stream",
     "text": [
      "{'1': '5. Pirates of the Caribbean: On Stranger Tides', '2': '2. Gods and Generals', '3': '3. Winnie the Pooh', '4': '2. 110', '5': '1. 107', '6': '5. Avatar'}\n"
     ]
    }
   ],
   "source": [
    "answers['6'] = '5. Avatar'\n",
    "print(answers)"
   ]
  },
  {
   "cell_type": "code",
   "execution_count": 21,
   "metadata": {
    "colab": {},
    "colab_type": "code",
    "id": "UYZh4T9WVp-y"
   },
   "outputs": [
    {
     "data": {
      "text/plain": [
       "239    Avatar\n",
       "Name: original_title, dtype: object"
      ]
     },
     "execution_count": 21,
     "metadata": {},
     "output_type": "execute_result"
    }
   ],
   "source": [
    "# код получения столбца profit вынесен в Предобработку что в начале\n",
    "data[data.profit == data.profit.max()].original_title"
   ]
  },
  {
   "cell_type": "markdown",
   "metadata": {
    "colab_type": "text",
    "id": "M99JmIX4Vp-2"
   },
   "source": [
    "# 7. Какой фильм самый убыточный? "
   ]
  },
  {
   "cell_type": "code",
   "execution_count": 32,
   "metadata": {},
   "outputs": [
    {
     "name": "stdout",
     "output_type": "stream",
     "text": [
      "{'1': '5. Pirates of the Caribbean: On Stranger Tides', '2': '2. Gods and Generals', '3': '3. Winnie the Pooh', '4': '2. 110', '5': '1. 107', '6': '5. Avatar', '7': '5. The Lone Ranger'}\n"
     ]
    }
   ],
   "source": [
    "answers['7'] = '5. The Lone Ranger'\n",
    "print(answers)"
   ]
  },
  {
   "cell_type": "code",
   "execution_count": 23,
   "metadata": {
    "colab": {},
    "colab_type": "code",
    "id": "w-D2m4XPVp-3"
   },
   "outputs": [
    {
     "data": {
      "text/html": [
       "<div>\n",
       "<style scoped>\n",
       "    .dataframe tbody tr th:only-of-type {\n",
       "        vertical-align: middle;\n",
       "    }\n",
       "\n",
       "    .dataframe tbody tr th {\n",
       "        vertical-align: top;\n",
       "    }\n",
       "\n",
       "    .dataframe thead th {\n",
       "        text-align: right;\n",
       "    }\n",
       "</style>\n",
       "<table border=\"1\" class=\"dataframe\">\n",
       "  <thead>\n",
       "    <tr style=\"text-align: right;\">\n",
       "      <th></th>\n",
       "      <th>original_title</th>\n",
       "      <th>profit</th>\n",
       "    </tr>\n",
       "  </thead>\n",
       "  <tbody>\n",
       "    <tr>\n",
       "      <th>1245</th>\n",
       "      <td>The Lone Ranger</td>\n",
       "      <td>-165710090</td>\n",
       "    </tr>\n",
       "  </tbody>\n",
       "</table>\n",
       "</div>"
      ],
      "text/plain": [
       "       original_title     profit\n",
       "1245  The Lone Ranger -165710090"
      ]
     },
     "execution_count": 23,
     "metadata": {},
     "output_type": "execute_result"
    }
   ],
   "source": [
    "data[data.profit == data.profit.min()][['original_title', 'profit']]"
   ]
  },
  {
   "cell_type": "markdown",
   "metadata": {
    "colab_type": "text",
    "id": "wEOM5ERVVp-6"
   },
   "source": [
    "# 8. У скольких фильмов из датасета объем сборов оказался выше бюджета?"
   ]
  },
  {
   "cell_type": "code",
   "execution_count": 33,
   "metadata": {},
   "outputs": [
    {
     "name": "stdout",
     "output_type": "stream",
     "text": [
      "{'1': '5. Pirates of the Caribbean: On Stranger Tides', '2': '2. Gods and Generals', '3': '3. Winnie the Pooh', '4': '2. 110', '5': '1. 107', '6': '5. Avatar', '7': '5. The Lone Ranger', '8': '1. 1478'}\n"
     ]
    }
   ],
   "source": [
    "answers['8'] = '1. 1478'\n",
    "print(answers)"
   ]
  },
  {
   "cell_type": "code",
   "execution_count": 25,
   "metadata": {
    "colab": {},
    "colab_type": "code",
    "id": "y00_7HD6Vp-7"
   },
   "outputs": [
    {
     "data": {
      "text/plain": [
       "1478"
      ]
     },
     "execution_count": 25,
     "metadata": {},
     "output_type": "execute_result"
    }
   ],
   "source": [
    "len(data[data['profit'] > 0]['original_title'])"
   ]
  },
  {
   "cell_type": "markdown",
   "metadata": {
    "colab_type": "text",
    "id": "xhpspA9KVp_A"
   },
   "source": [
    "# 9. Какой фильм оказался самым кассовым в 2008 году?"
   ]
  },
  {
   "cell_type": "code",
   "execution_count": 34,
   "metadata": {},
   "outputs": [
    {
     "name": "stdout",
     "output_type": "stream",
     "text": [
      "{'1': '5. Pirates of the Caribbean: On Stranger Tides', '2': '2. Gods and Generals', '3': '3. Winnie the Pooh', '4': '2. 110', '5': '1. 107', '6': '5. Avatar', '7': '5. The Lone Ranger', '8': '1. 1478', '9': '4. The Dark Knight'}\n"
     ]
    }
   ],
   "source": [
    "answers['9'] = '4. The Dark Knight'\n",
    "print(answers)"
   ]
  },
  {
   "cell_type": "code",
   "execution_count": 27,
   "metadata": {
    "colab": {},
    "colab_type": "code",
    "id": "MoUyQr9RVp_B"
   },
   "outputs": [
    {
     "data": {
      "text/plain": [
       "599    The Dark Knight\n",
       "Name: original_title, dtype: object"
      ]
     },
     "execution_count": 27,
     "metadata": {},
     "output_type": "execute_result"
    }
   ],
   "source": [
    "data[data['profit'] == data[data.release_year == 2008]['profit'].max()]['original_title']"
   ]
  },
  {
   "cell_type": "markdown",
   "metadata": {
    "colab_type": "text",
    "id": "Zi4hDKidVp_F"
   },
   "source": [
    "# 10. Самый убыточный фильм за период с 2012 по 2014 г. (включительно)?\n"
   ]
  },
  {
   "cell_type": "code",
   "execution_count": 35,
   "metadata": {},
   "outputs": [
    {
     "name": "stdout",
     "output_type": "stream",
     "text": [
      "{'1': '5. Pirates of the Caribbean: On Stranger Tides', '2': '2. Gods and Generals', '3': '3. Winnie the Pooh', '4': '2. 110', '5': '1. 107', '6': '5. Avatar', '7': '5. The Lone Ranger', '8': '1. 1478', '9': '4. The Dark Knight', '10': '5. The Lone Ranger'}\n"
     ]
    }
   ],
   "source": [
    "answers['10'] = '5. The Lone Ranger'\n",
    "print(answers)"
   ]
  },
  {
   "cell_type": "code",
   "execution_count": 38,
   "metadata": {
    "colab": {},
    "colab_type": "code",
    "id": "XqyRmufJVp_F"
   },
   "outputs": [
    {
     "data": {
      "text/plain": [
       "1245    The Lone Ranger\n",
       "Name: original_title, dtype: object"
      ]
     },
     "execution_count": 38,
     "metadata": {},
     "output_type": "execute_result"
    }
   ],
   "source": [
    "data[data['profit'] == data[(data.release_year <= 2014)\n",
    "                            & (data.release_year >= 2012)]['profit'].min()]['original_title']"
   ]
  },
  {
   "cell_type": "markdown",
   "metadata": {
    "colab_type": "text",
    "id": "EA7Sa9dkVp_I"
   },
   "source": [
    "# 11. Какого жанра фильмов больше всего?"
   ]
  },
  {
   "cell_type": "code",
   "execution_count": 36,
   "metadata": {},
   "outputs": [
    {
     "name": "stdout",
     "output_type": "stream",
     "text": [
      "{'1': '5. Pirates of the Caribbean: On Stranger Tides', '2': '2. Gods and Generals', '3': '3. Winnie the Pooh', '4': '2. 110', '5': '1. 107', '6': '5. Avatar', '7': '5. The Lone Ranger', '8': '1. 1478', '9': '4. The Dark Knight', '10': '5. The Lone Ranger', '11': '3. Drama'}\n"
     ]
    }
   ],
   "source": [
    "answers['11'] = '3. Drama'\n",
    "print(answers)"
   ]
  },
  {
   "cell_type": "code",
   "execution_count": 58,
   "metadata": {
    "colab": {},
    "colab_type": "code",
    "id": "zsJAwJ8QVp_J"
   },
   "outputs": [
    {
     "data": {
      "text/plain": [
       "Drama              782\n",
       "Comedy             683\n",
       "Thriller           596\n",
       "Action             582\n",
       "Adventure          415\n",
       "Crime              315\n",
       "Romance            308\n",
       "Family             260\n",
       "Science Fiction    248\n",
       "Fantasy            222\n",
       "Horror             176\n",
       "Mystery            168\n",
       "Animation          139\n",
       "Music               64\n",
       "History             62\n",
       "War                 58\n",
       "Western             19\n",
       "Documentary          8\n",
       "Foreign              2\n",
       "Name: genres, dtype: int64"
      ]
     },
     "execution_count": 58,
     "metadata": {},
     "output_type": "execute_result"
    }
   ],
   "source": [
    "genres_data = data[:]    # новый ДФ непривязанный к оригинальному\n",
    "genres_data['genres'] = data['genres'].apply(lambda x:x.split('|'))    \n",
    "# конверсия склеенной строки с жанрами в лист\n",
    "genres_data = genres_data.explode('genres')    \n",
    "# создание новых строк для каждого отдельного жанра\n",
    "genres_data['genres'].value_counts()\n",
    "# эту задачу тоже можно решать разными подходами, попробуй реализовать разные варианты\n",
    "# если будешь добавлять функцию - выноси ее в предобработку что в начале"
   ]
  },
  {
   "cell_type": "markdown",
   "metadata": {
    "colab_type": "text",
    "id": "Ax6g2C8SVp_M"
   },
   "source": [
    "ВАРИАНТ 2"
   ]
  },
  {
   "cell_type": "code",
   "execution_count": 37,
   "metadata": {},
   "outputs": [
    {
     "data": {
      "text/plain": [
       "Counter({'Action': 582,\n",
       "         'Adventure': 415,\n",
       "         'Science Fiction': 248,\n",
       "         'Thriller': 596,\n",
       "         'Fantasy': 222,\n",
       "         'Crime': 315,\n",
       "         'Western': 19,\n",
       "         'Drama': 782,\n",
       "         'Family': 260,\n",
       "         'Animation': 139,\n",
       "         'Comedy': 683,\n",
       "         'Mystery': 168,\n",
       "         'Romance': 308,\n",
       "         'War': 58,\n",
       "         'History': 62,\n",
       "         'Music': 64,\n",
       "         'Horror': 176,\n",
       "         'Documentary': 8,\n",
       "         'Foreign': 2})"
      ]
     },
     "execution_count": 37,
     "metadata": {},
     "output_type": "execute_result"
    }
   ],
   "source": [
    "data = pd.read_csv('movie_bd_v5.csv')\n",
    "unique_names_counter(data, 'genres')\n",
    "# применение unique_names_counter к data['genres']"
   ]
  },
  {
   "cell_type": "markdown",
   "metadata": {
    "colab_type": "text",
    "id": "T9_bPWpkVp_Q"
   },
   "source": [
    "# 12. Фильмы какого жанра чаще всего становятся прибыльными? "
   ]
  },
  {
   "cell_type": "code",
   "execution_count": 38,
   "metadata": {},
   "outputs": [
    {
     "name": "stdout",
     "output_type": "stream",
     "text": [
      "{'1': '5. Pirates of the Caribbean: On Stranger Tides', '2': '2. Gods and Generals', '3': '3. Winnie the Pooh', '4': '2. 110', '5': '1. 107', '6': '5. Avatar', '7': '5. The Lone Ranger', '8': '1. 1478', '9': '4. The Dark Knight', '10': '5. The Lone Ranger', '11': '3. Drama', '12': '1. Drama'}\n"
     ]
    }
   ],
   "source": [
    "answers['12'] = '1. Drama'\n",
    "print(answers)"
   ]
  },
  {
   "cell_type": "code",
   "execution_count": 61,
   "metadata": {},
   "outputs": [
    {
     "data": {
      "text/plain": [
       "Drama              560\n",
       "Comedy             551\n",
       "Thriller           446\n",
       "Action             444\n",
       "Adventure          337\n",
       "Romance            242\n",
       "Crime              231\n",
       "Family             226\n",
       "Science Fiction    195\n",
       "Fantasy            188\n",
       "Horror             150\n",
       "Animation          120\n",
       "Mystery            119\n",
       "Music               47\n",
       "History             46\n",
       "War                 41\n",
       "Western             12\n",
       "Documentary          7\n",
       "Name: genres, dtype: int64"
      ]
     },
     "execution_count": 61,
     "metadata": {},
     "output_type": "execute_result"
    }
   ],
   "source": [
    "# More often means with higher chance? %? (probably not) \n",
    "# most frequent one is Documentary and it's not even in the list of answers\n",
    "# we will use genres_data from previous task\n",
    "genres_data[genres_data['profit'] > 0]['genres'].value_counts()    \n",
    "# let's take \"profitable\" as everything where profit is > 0"
   ]
  },
  {
   "cell_type": "markdown",
   "metadata": {
    "colab_type": "text",
    "id": "0F23bgsDVp_U"
   },
   "source": [
    "# 13. У какого режиссера самые большие суммарные кассовые сборы?"
   ]
  },
  {
   "cell_type": "code",
   "execution_count": 39,
   "metadata": {},
   "outputs": [
    {
     "name": "stdout",
     "output_type": "stream",
     "text": [
      "{'1': '5. Pirates of the Caribbean: On Stranger Tides', '2': '2. Gods and Generals', '3': '3. Winnie the Pooh', '4': '2. 110', '5': '1. 107', '6': '5. Avatar', '7': '5. The Lone Ranger', '8': '1. 1478', '9': '4. The Dark Knight', '10': '5. The Lone Ranger', '11': '3. Drama', '12': '1. Drama', '13': '5. Peter Jackson'}\n"
     ]
    }
   ],
   "source": [
    "answers['13'] = '5. Peter Jackson'\n",
    "print(answers)"
   ]
  },
  {
   "cell_type": "code",
   "execution_count": 63,
   "metadata": {},
   "outputs": [
    {
     "data": {
      "text/plain": [
       "director\n",
       "Peter Jackson        6490593685\n",
       "Christopher Nolan    4167548502\n",
       "David Yates          4154295625\n",
       "Michael Bay          3886938960\n",
       "J.J. Abrams          3579169916\n",
       "                        ...    \n",
       "David MichÃ´d           2295423\n",
       "Steven Shainberg        2281089\n",
       "Paul Schrader           2062066\n",
       "Keanu Reeves            2054941\n",
       "Simon Hunter            2033165\n",
       "Name: revenue, Length: 997, dtype: int64"
      ]
     },
     "execution_count": 63,
     "metadata": {},
     "output_type": "execute_result"
    }
   ],
   "source": [
    "# the same stuff as for the genres_data, check 11 task\n",
    "director_data = data[:]\n",
    "director_data['director'] = data['director'].apply(lambda x:x.split('|'))\n",
    "director_data = director_data.explode('director')\n",
    "director_data.groupby('director')['revenue'].apply(sum).sort_values(ascending=False)"
   ]
  },
  {
   "cell_type": "markdown",
   "metadata": {
    "colab_type": "text",
    "id": "PsYC9FgRVp_a"
   },
   "source": [
    "# 14. Какой режисер снял больше всего фильмов в стиле Action?"
   ]
  },
  {
   "cell_type": "code",
   "execution_count": 40,
   "metadata": {},
   "outputs": [
    {
     "name": "stdout",
     "output_type": "stream",
     "text": [
      "{'1': '5. Pirates of the Caribbean: On Stranger Tides', '2': '2. Gods and Generals', '3': '3. Winnie the Pooh', '4': '2. 110', '5': '1. 107', '6': '5. Avatar', '7': '5. The Lone Ranger', '8': '1. 1478', '9': '4. The Dark Knight', '10': '5. The Lone Ranger', '11': '3. Drama', '12': '1. Drama', '13': '5. Peter Jackson', '14': '3. Robert Rodriguez'}\n"
     ]
    }
   ],
   "source": [
    "answers['14'] = '3. Robert Rodriguez'\n",
    "print(answers)"
   ]
  },
  {
   "cell_type": "code",
   "execution_count": 69,
   "metadata": {},
   "outputs": [
    {
     "data": {
      "text/plain": [
       "director            genres\n",
       "Robert Rodriguez    Action    9\n",
       "Paul W.S. Anderson  Action    7\n",
       "Michael Bay         Action    7\n",
       "Ridley Scott        Action    6\n",
       "Antoine Fuqua       Action    6\n",
       "                             ..\n",
       "Joe Cornish         Action    1\n",
       "Roger Spottiswoode  Action    1\n",
       "Jimmy Hayward       Action    1\n",
       "Jim Gillespie       Action    1\n",
       "Jon Avnet           Action    1\n",
       "Name: genres, Length: 364, dtype: int64"
      ]
     },
     "execution_count": 69,
     "metadata": {},
     "output_type": "execute_result"
    }
   ],
   "source": [
    "dir_genr_data = director_data[:]     \n",
    "# we need separated genres and directors combined, so we take director_data as a start\n",
    "dir_genr_data['genres'] = dir_genr_data['genres'].apply(lambda x:x.split('|'))    \n",
    "# and separate genres in it\n",
    "dir_genr_data = dir_genr_data.explode('genres')\n",
    "action_df = dir_genr_data[dir_genr_data['genres'] == 'Action'][:]    \n",
    "# creation of separate DF exclusively with Action movies\n",
    "action_df.groupby('director')['genres'].value_counts().sort_values(ascending=False)"
   ]
  },
  {
   "cell_type": "code",
   "execution_count": 35,
   "metadata": {},
   "outputs": [
    {
     "data": {
      "text/plain": [
       "[('Robert Rodriguez', 9)]"
      ]
     },
     "execution_count": 35,
     "metadata": {},
     "output_type": "execute_result"
    }
   ],
   "source": [
    "# NOT MY SOLUTION, overseen in slack!\n",
    "# the easiest solution\n",
    "data2 = data[data.genres.str.contains('Action', na = False)]\n",
    "# Calculating directors names occurences, very easy, but I don't like it.\n",
    "collections.Counter(data2['director'].str.cat(sep = '|').split('|')).most_common(1)"
   ]
  },
  {
   "cell_type": "markdown",
   "metadata": {
    "colab_type": "text",
    "id": "PQ0KciD7Vp_f"
   },
   "source": [
    "# 15. Фильмы с каким актером принесли самые высокие кассовые сборы в 2012 году? "
   ]
  },
  {
   "cell_type": "code",
   "execution_count": 41,
   "metadata": {},
   "outputs": [
    {
     "name": "stdout",
     "output_type": "stream",
     "text": [
      "{'1': '5. Pirates of the Caribbean: On Stranger Tides', '2': '2. Gods and Generals', '3': '3. Winnie the Pooh', '4': '2. 110', '5': '1. 107', '6': '5. Avatar', '7': '5. The Lone Ranger', '8': '1. 1478', '9': '4. The Dark Knight', '10': '5. The Lone Ranger', '11': '3. Drama', '12': '1. Drama', '13': '5. Peter Jackson', '14': '3. Robert Rodriguez', '15': '3. Chris Hemsworth'}\n"
     ]
    }
   ],
   "source": [
    "answers['15'] = '3. Chris Hemsworth'\n",
    "print(answers)"
   ]
  },
  {
   "cell_type": "code",
   "execution_count": 102,
   "metadata": {},
   "outputs": [
    {
     "data": {
      "text/plain": [
       "cast\n",
       "Chris Hemsworth      2027450773\n",
       "Denis Leary          1629460639\n",
       "Anne Hathaway        1522851057\n",
       "Chris Evans          1519557910\n",
       "Robert Downey Jr.    1519557910\n",
       "                        ...    \n",
       "Jason Bateman           3428048\n",
       "Danny Huston            2106557\n",
       "Sami Gayle              2106557\n",
       "Josh Lucas              2106557\n",
       "Nicolas Cage            2106557\n",
       "Name: revenue, Length: 466, dtype: int64"
      ]
     },
     "execution_count": 102,
     "metadata": {},
     "output_type": "execute_result"
    }
   ],
   "source": [
    "cast_data = data[:]    # separating actors - see tasks 11-14\n",
    "cast_data['cast'] = cast_data['cast'].apply(lambda x:x.split('|'))\n",
    "cast_data = cast_data.explode('cast')\n",
    "cast_data[cast_data['release_year'] == 2012].groupby('cast')['revenue'].apply(sum).sort_values(ascending=False)"
   ]
  },
  {
   "cell_type": "markdown",
   "metadata": {
    "colab_type": "text",
    "id": "mWHyyL7QVp_j"
   },
   "source": [
    "# 16. Какой актер снялся в большем количестве высокобюджетных фильмов?"
   ]
  },
  {
   "cell_type": "code",
   "execution_count": 42,
   "metadata": {},
   "outputs": [
    {
     "name": "stdout",
     "output_type": "stream",
     "text": [
      "{'1': '5. Pirates of the Caribbean: On Stranger Tides', '2': '2. Gods and Generals', '3': '3. Winnie the Pooh', '4': '2. 110', '5': '1. 107', '6': '5. Avatar', '7': '5. The Lone Ranger', '8': '1. 1478', '9': '4. The Dark Knight', '10': '5. The Lone Ranger', '11': '3. Drama', '12': '1. Drama', '13': '5. Peter Jackson', '14': '3. Robert Rodriguez', '15': '3. Chris Hemsworth', '16': '3. Matt Damon'}\n"
     ]
    }
   ],
   "source": [
    "answers['16'] = '3. Matt Damon'\n",
    "print(answers)"
   ]
  },
  {
   "cell_type": "code",
   "execution_count": 78,
   "metadata": {
    "colab": {},
    "colab_type": "code",
    "id": "qQtmHKTFVp_k"
   },
   "outputs": [
    {
     "data": {
      "text/plain": [
       "Matt Damon           18\n",
       "Adam Sandler         17\n",
       "Angelina Jolie       16\n",
       "Samuel L. Jackson    15\n",
       "Tom Cruise           15\n",
       "                     ..\n",
       "G. W. Bailey          1\n",
       "Richard Dreyfuss      1\n",
       "Mary Alice            1\n",
       "Jonathan Groff        1\n",
       "Freida Pinto          1\n",
       "Name: cast, Length: 1505, dtype: int64"
      ]
     },
     "execution_count": 78,
     "metadata": {},
     "output_type": "execute_result"
    }
   ],
   "source": [
    "cast_data[cast_data['budget'] > cast_data['budget'].mean()]['cast'].value_counts()"
   ]
  },
  {
   "cell_type": "markdown",
   "metadata": {
    "colab_type": "text",
    "id": "NIh6AaW5Vp_n"
   },
   "source": [
    "# 17. В фильмах какого жанра больше всего снимался Nicolas Cage? "
   ]
  },
  {
   "cell_type": "code",
   "execution_count": 43,
   "metadata": {},
   "outputs": [
    {
     "name": "stdout",
     "output_type": "stream",
     "text": [
      "{'1': '5. Pirates of the Caribbean: On Stranger Tides', '2': '2. Gods and Generals', '3': '3. Winnie the Pooh', '4': '2. 110', '5': '1. 107', '6': '5. Avatar', '7': '5. The Lone Ranger', '8': '1. 1478', '9': '4. The Dark Knight', '10': '5. The Lone Ranger', '11': '3. Drama', '12': '1. Drama', '13': '5. Peter Jackson', '14': '3. Robert Rodriguez', '15': '3. Chris Hemsworth', '16': '3. Matt Damon', '17': '2. Action'}\n"
     ]
    }
   ],
   "source": [
    "answers['17'] = '2. Action'\n",
    "print(answers)"
   ]
  },
  {
   "cell_type": "code",
   "execution_count": 84,
   "metadata": {
    "colab": {},
    "colab_type": "code",
    "id": "H74SJDIBVp_n"
   },
   "outputs": [
    {
     "data": {
      "text/plain": [
       "[('Action', 17)]"
      ]
     },
     "execution_count": 84,
     "metadata": {},
     "output_type": "execute_result"
    }
   ],
   "source": [
    "Cagiana_data = cast_data[cast_data['cast'] == 'Nicolas Cage']\n",
    "# For sake of diversity\n",
    "collections.Counter(Cagiana_data['genres'].str.cat(sep = '|').split('|')).most_common(1)"
   ]
  },
  {
   "cell_type": "markdown",
   "metadata": {
    "colab_type": "text",
    "id": "RqOmPRfWVp_q"
   },
   "source": [
    "# 18. Самый убыточный фильм от Paramount Pictures"
   ]
  },
  {
   "cell_type": "code",
   "execution_count": 44,
   "metadata": {},
   "outputs": [
    {
     "name": "stdout",
     "output_type": "stream",
     "text": [
      "{'1': '5. Pirates of the Caribbean: On Stranger Tides', '2': '2. Gods and Generals', '3': '3. Winnie the Pooh', '4': '2. 110', '5': '1. 107', '6': '5. Avatar', '7': '5. The Lone Ranger', '8': '1. 1478', '9': '4. The Dark Knight', '10': '5. The Lone Ranger', '11': '3. Drama', '12': '1. Drama', '13': '5. Peter Jackson', '14': '3. Robert Rodriguez', '15': '3. Chris Hemsworth', '16': '3. Matt Damon', '17': '2. Action', '18': '1. K-19: The Widowmaker'}\n"
     ]
    }
   ],
   "source": [
    "answers['18'] = '1. K-19: The Widowmaker'\n",
    "print(answers)"
   ]
  },
  {
   "cell_type": "code",
   "execution_count": 47,
   "metadata": {
    "colab": {},
    "colab_type": "code",
    "id": "9E_B0Y96Vp_r"
   },
   "outputs": [
    {
     "data": {
      "text/plain": [
       "925    K-19: The Widowmaker\n",
       "Name: original_title, dtype: object"
      ]
     },
     "execution_count": 47,
     "metadata": {},
     "output_type": "execute_result"
    }
   ],
   "source": [
    "data_paramount = data[data['production_companies'].str.contains('Paramount Pictures', na=False)]\n",
    "data_paramount[data_paramount['profit'] == data_paramount['profit'].min()]['original_title']"
   ]
  },
  {
   "cell_type": "markdown",
   "metadata": {
    "colab_type": "text",
    "id": "vS8Ur6ddVp_u"
   },
   "source": [
    "# 19. Какой год стал самым успешным по суммарным кассовым сборам?"
   ]
  },
  {
   "cell_type": "code",
   "execution_count": 45,
   "metadata": {},
   "outputs": [
    {
     "name": "stdout",
     "output_type": "stream",
     "text": [
      "{'1': '5. Pirates of the Caribbean: On Stranger Tides', '2': '2. Gods and Generals', '3': '3. Winnie the Pooh', '4': '2. 110', '5': '1. 107', '6': '5. Avatar', '7': '5. The Lone Ranger', '8': '1. 1478', '9': '4. The Dark Knight', '10': '5. The Lone Ranger', '11': '3. Drama', '12': '1. Drama', '13': '5. Peter Jackson', '14': '3. Robert Rodriguez', '15': '3. Chris Hemsworth', '16': '3. Matt Damon', '17': '2. Action', '18': '1. K-19: The Widowmaker', '19': '5. 2015'}\n"
     ]
    }
   ],
   "source": [
    "answers['19'] = '5. 2015'\n",
    "print(answers)"
   ]
  },
  {
   "cell_type": "code",
   "execution_count": 49,
   "metadata": {
    "colab": {},
    "colab_type": "code",
    "id": "Dnbt4GdIVp_v"
   },
   "outputs": [
    {
     "data": {
      "text/plain": [
       "release_year\n",
       "2015    25449202382\n",
       "2014    23405862953\n",
       "2013    23213799791\n",
       "2012    23079001687\n",
       "2011    22676791872\n",
       "2010    21071204961\n",
       "2009    20261791024\n",
       "2008    18252781990\n",
       "2007    18162406801\n",
       "2004    15663430720\n",
       "2005    15309425558\n",
       "2006    14775042320\n",
       "2003    14346123312\n",
       "2002    14136361487\n",
       "2001    13017764865\n",
       "2000    10664099805\n",
       "Name: revenue, dtype: int64"
      ]
     },
     "execution_count": 49,
     "metadata": {},
     "output_type": "execute_result"
    }
   ],
   "source": [
    "data.groupby('release_year')['revenue'].apply(sum).sort_values(ascending=False)    \n",
    "# I love 'apply' :)"
   ]
  },
  {
   "cell_type": "markdown",
   "metadata": {
    "colab_type": "text",
    "id": "JAzJh4QAVp_z"
   },
   "source": [
    "# 20. Какой самый прибыльный год для студии Warner Bros?"
   ]
  },
  {
   "cell_type": "code",
   "execution_count": 46,
   "metadata": {},
   "outputs": [
    {
     "name": "stdout",
     "output_type": "stream",
     "text": [
      "{'1': '5. Pirates of the Caribbean: On Stranger Tides', '2': '2. Gods and Generals', '3': '3. Winnie the Pooh', '4': '2. 110', '5': '1. 107', '6': '5. Avatar', '7': '5. The Lone Ranger', '8': '1. 1478', '9': '4. The Dark Knight', '10': '5. The Lone Ranger', '11': '3. Drama', '12': '1. Drama', '13': '5. Peter Jackson', '14': '3. Robert Rodriguez', '15': '3. Chris Hemsworth', '16': '3. Matt Damon', '17': '2. Action', '18': '1. K-19: The Widowmaker', '19': '5. 2015', '20': '1. 2014'}\n"
     ]
    }
   ],
   "source": [
    "answers['20'] = '1. 2014'\n",
    "print(answers)"
   ]
  },
  {
   "cell_type": "code",
   "execution_count": 98,
   "metadata": {
    "colab": {},
    "colab_type": "code",
    "id": "wgVu02DEVp_0"
   },
   "outputs": [
    {
     "data": {
      "text/plain": [
       "release_year\n",
       "2014    2295464519\n",
       "2007    2201675217\n",
       "2008    2134595031\n",
       "2010    1974712985\n",
       "2011    1871393682\n",
       "2003    1855493377\n",
       "2009    1822454136\n",
       "2013    1636453400\n",
       "2004    1631933725\n",
       "2005    1551980298\n",
       "2001    1343545668\n",
       "2012    1258020056\n",
       "2002    1022709901\n",
       "2015     870368348\n",
       "2006     620170743\n",
       "2000     452631386\n",
       "Name: profit, dtype: int64"
      ]
     },
     "execution_count": 98,
     "metadata": {},
     "output_type": "execute_result"
    }
   ],
   "source": [
    "data_WB = data[data['production_companies'].str.contains('Warner Bros', na=False)]    \n",
    "# DF with WB movieas only\n",
    "data_WB.groupby('release_year')['profit'].apply(sum).sort_values(ascending=False)    \n",
    "# I could have done this in one row, but it would look monsterous"
   ]
  },
  {
   "cell_type": "markdown",
   "metadata": {
    "colab_type": "text",
    "id": "8Im1S2HRVp_4"
   },
   "source": [
    "# 21. В каком месяце за все годы суммарно вышло больше всего фильмов?"
   ]
  },
  {
   "cell_type": "code",
   "execution_count": 47,
   "metadata": {
    "colab": {},
    "colab_type": "code",
    "id": "lev6TH7gVp_4"
   },
   "outputs": [
    {
     "name": "stdout",
     "output_type": "stream",
     "text": [
      "{'1': '5. Pirates of the Caribbean: On Stranger Tides', '2': '2. Gods and Generals', '3': '3. Winnie the Pooh', '4': '2. 110', '5': '1. 107', '6': '5. Avatar', '7': '5. The Lone Ranger', '8': '1. 1478', '9': '4. The Dark Knight', '10': '5. The Lone Ranger', '11': '3. Drama', '12': '1. Drama', '13': '5. Peter Jackson', '14': '3. Robert Rodriguez', '15': '3. Chris Hemsworth', '16': '3. Matt Damon', '17': '2. Action', '18': '1. K-19: The Widowmaker', '19': '5. 2015', '20': '1. 2014', '21': '4. Сентябрь'}\n"
     ]
    }
   ],
   "source": [
    "answers['21'] = '4. Сентябрь'\n",
    "print(answers)"
   ]
  },
  {
   "cell_type": "code",
   "execution_count": 107,
   "metadata": {},
   "outputs": [
    {
     "data": {
      "text/plain": [
       "9     227\n",
       "12    190\n",
       "10    186\n",
       "8     161\n",
       "3     156\n",
       "4     149\n",
       "6     147\n",
       "11    146\n",
       "7     142\n",
       "5     140\n",
       "2     135\n",
       "1     110\n",
       "Name: release_date, dtype: int64"
      ]
     },
     "execution_count": 107,
     "metadata": {},
     "output_type": "execute_result"
    }
   ],
   "source": [
    "data['release_date'] = pd.to_datetime(data['release_date'])\n",
    "data['release_date'].dt.month.value_counts()"
   ]
  },
  {
   "cell_type": "markdown",
   "metadata": {
    "colab_type": "text",
    "id": "uAJsZ_NeVp_7"
   },
   "source": [
    "# 22. Сколько суммарно вышло фильмов летом? (за июнь, июль, август)"
   ]
  },
  {
   "cell_type": "code",
   "execution_count": 48,
   "metadata": {},
   "outputs": [
    {
     "name": "stdout",
     "output_type": "stream",
     "text": [
      "{'1': '5. Pirates of the Caribbean: On Stranger Tides', '2': '2. Gods and Generals', '3': '3. Winnie the Pooh', '4': '2. 110', '5': '1. 107', '6': '5. Avatar', '7': '5. The Lone Ranger', '8': '1. 1478', '9': '4. The Dark Knight', '10': '5. The Lone Ranger', '11': '3. Drama', '12': '1. Drama', '13': '5. Peter Jackson', '14': '3. Robert Rodriguez', '15': '3. Chris Hemsworth', '16': '3. Matt Damon', '17': '2. Action', '18': '1. K-19: The Widowmaker', '19': '5. 2015', '20': '1. 2014', '21': '4. Сентябрь', '22': '2. 450'}\n"
     ]
    }
   ],
   "source": [
    "answers['22'] = '2. 450'\n",
    "print(answers)"
   ]
  },
  {
   "cell_type": "code",
   "execution_count": 116,
   "metadata": {
    "colab": {},
    "colab_type": "code",
    "id": "Aa-hEREoVp_8"
   },
   "outputs": [
    {
     "data": {
      "text/plain": [
       "450"
      ]
     },
     "execution_count": 116,
     "metadata": {},
     "output_type": "execute_result"
    }
   ],
   "source": [
    "sum(data['release_date'].dt.month.value_counts()[[8,7,6]])"
   ]
  },
  {
   "cell_type": "markdown",
   "metadata": {
    "colab_type": "text",
    "id": "G94ppOY1VqAA"
   },
   "source": [
    "# 23. Для какого режиссера зима – самое продуктивное время года? "
   ]
  },
  {
   "cell_type": "code",
   "execution_count": 49,
   "metadata": {
    "colab": {},
    "colab_type": "code",
    "id": "RhNTsamuVqAB"
   },
   "outputs": [
    {
     "name": "stdout",
     "output_type": "stream",
     "text": [
      "{'1': '5. Pirates of the Caribbean: On Stranger Tides', '2': '2. Gods and Generals', '3': '3. Winnie the Pooh', '4': '2. 110', '5': '1. 107', '6': '5. Avatar', '7': '5. The Lone Ranger', '8': '1. 1478', '9': '4. The Dark Knight', '10': '5. The Lone Ranger', '11': '3. Drama', '12': '1. Drama', '13': '5. Peter Jackson', '14': '3. Robert Rodriguez', '15': '3. Chris Hemsworth', '16': '3. Matt Damon', '17': '2. Action', '18': '1. K-19: The Widowmaker', '19': '5. 2015', '20': '1. 2014', '21': '4. Сентябрь', '22': '2. 450', '23': '5. Peter Jackson'}\n"
     ]
    }
   ],
   "source": [
    "answers['23'] = '5. Peter Jackson'\n",
    "print(answers)"
   ]
  },
  {
   "cell_type": "code",
   "execution_count": 153,
   "metadata": {},
   "outputs": [
    {
     "data": {
      "text/plain": [
       "Peter Jackson        7\n",
       "Steven Soderbergh    6\n",
       "Clint Eastwood       6\n",
       "Nancy Meyers         4\n",
       "Martin Scorsese      4\n",
       "                    ..\n",
       "Jessie Nelson        1\n",
       "Xavier Palud         1\n",
       "Taylor Hackford      1\n",
       "Brad Peyton          1\n",
       "Griffin Dunne        1\n",
       "Name: director, Length: 358, dtype: int64"
      ]
     },
     "execution_count": 153,
     "metadata": {},
     "output_type": "execute_result"
    }
   ],
   "source": [
    "director_data['release_date'] = pd.to_datetime(director_data['release_date'])    \n",
    "# lets convert it to the normal time format\n",
    "director_data[(director_data['release_date'].dt.month == 1) | (data['release_date'].dt.month == 2)\n",
    "              | (data['release_date'].dt.month == 12)]['director'].value_counts()\n",
    "# director with most of movies in Jan - 1m + Feb - 2m + Dec - 12m"
   ]
  },
  {
   "cell_type": "markdown",
   "metadata": {
    "colab_type": "text",
    "id": "RBo0JVjVVqAF"
   },
   "source": [
    "# 24. Какая студия дает самые длинные названия своим фильмам по количеству символов?"
   ]
  },
  {
   "cell_type": "code",
   "execution_count": 50,
   "metadata": {},
   "outputs": [
    {
     "name": "stdout",
     "output_type": "stream",
     "text": [
      "{'1': '5. Pirates of the Caribbean: On Stranger Tides', '2': '2. Gods and Generals', '3': '3. Winnie the Pooh', '4': '2. 110', '5': '1. 107', '6': '5. Avatar', '7': '5. The Lone Ranger', '8': '1. 1478', '9': '4. The Dark Knight', '10': '5. The Lone Ranger', '11': '3. Drama', '12': '1. Drama', '13': '5. Peter Jackson', '14': '3. Robert Rodriguez', '15': '3. Chris Hemsworth', '16': '3. Matt Damon', '17': '2. Action', '18': '1. K-19: The Widowmaker', '19': '5. 2015', '20': '1. 2014', '21': '4. Сентябрь', '22': '2. 450', '23': '5. Peter Jackson', '24': '5. Four By Two Productions'}\n"
     ]
    }
   ],
   "source": [
    "answers['24'] = '5. Four By Two Productions'\n",
    "print(answers)"
   ]
  },
  {
   "cell_type": "code",
   "execution_count": 7,
   "metadata": {},
   "outputs": [],
   "source": [
    "# separating production_companies\n",
    "pc_data = data[:]\n",
    "pc_data['production_companies'] = pc_data['production_companies'].apply(lambda x:x.split('|'))\n",
    "pc_data = pc_data.explode('production_companies')"
   ]
  },
  {
   "cell_type": "code",
   "execution_count": 57,
   "metadata": {},
   "outputs": [
    {
     "data": {
      "text/plain": [
       "production_companies\n",
       "Four By Two Productions       83.0\n",
       "Jim Henson Company, The       59.0\n",
       "Dos Corazones                 47.0\n",
       "Museum Canada Productions     46.0\n",
       "Polsky Films                  46.0\n",
       "                              ... \n",
       "Everest Entertainment          3.0\n",
       "Berlanti Productions           3.0\n",
       "XM2 Productions                2.0\n",
       "Ixtlan Productions             2.0\n",
       "Global Entertainment Group     2.0\n",
       "Name: original_title, Length: 1771, dtype: float64"
      ]
     },
     "execution_count": 57,
     "metadata": {},
     "output_type": "execute_result"
    }
   ],
   "source": [
    "# we group production_xompanies by original title and apply to them lambda function which calculates their mean lenght\n",
    "pc_data.groupby('production_companies')['original_title'].apply(lambda x: np.mean((x).str.len())).sort_values(ascending=False)"
   ]
  },
  {
   "cell_type": "markdown",
   "metadata": {
    "colab_type": "text",
    "id": "9G0hbvR7VqAK"
   },
   "source": [
    "# 25. Описание фильмов какой студии в среднем самые длинные по количеству слов?"
   ]
  },
  {
   "cell_type": "code",
   "execution_count": 51,
   "metadata": {},
   "outputs": [
    {
     "name": "stdout",
     "output_type": "stream",
     "text": [
      "{'1': '5. Pirates of the Caribbean: On Stranger Tides', '2': '2. Gods and Generals', '3': '3. Winnie the Pooh', '4': '2. 110', '5': '1. 107', '6': '5. Avatar', '7': '5. The Lone Ranger', '8': '1. 1478', '9': '4. The Dark Knight', '10': '5. The Lone Ranger', '11': '3. Drama', '12': '1. Drama', '13': '5. Peter Jackson', '14': '3. Robert Rodriguez', '15': '3. Chris Hemsworth', '16': '3. Matt Damon', '17': '2. Action', '18': '1. K-19: The Widowmaker', '19': '5. 2015', '20': '1. 2014', '21': '4. Сентябрь', '22': '2. 450', '23': '5. Peter Jackson', '24': '5. Four By Two Productions', '25': '3. Midnight Picture Show'}\n"
     ]
    }
   ],
   "source": [
    "answers['25'] = '3. Midnight Picture Show'\n",
    "print(answers)"
   ]
  },
  {
   "cell_type": "code",
   "execution_count": 22,
   "metadata": {},
   "outputs": [
    {
     "data": {
      "text/plain": [
       "production_companies\n",
       "Midnight Picture Show                    175.0\n",
       "Room 9 Entertainment                     161.0\n",
       "Heineken Branded Entertainment           161.0\n",
       "98 MPH Productions                       159.0\n",
       "Brookwell-McNamara Entertainment         156.0\n",
       "                                         ...  \n",
       "London Boulevard                          13.0\n",
       "Phantom Four                              13.0\n",
       "Henceforth                                13.0\n",
       "Empire Pictures                           11.0\n",
       "Motion Picture Corporation of America     11.0\n",
       "Name: overview, Length: 1771, dtype: float64"
      ]
     },
     "execution_count": 22,
     "metadata": {},
     "output_type": "execute_result"
    }
   ],
   "source": [
    "pc_data.groupby('production_companies')['overview'].apply(sum_words).sort_values(ascending=False)"
   ]
  },
  {
   "cell_type": "markdown",
   "metadata": {
    "colab_type": "text",
    "id": "FJ1AFt90VqAP"
   },
   "source": [
    "# 26. Какие фильмы входят в 1 процент лучших по рейтингу? \n",
    "по vote_average"
   ]
  },
  {
   "cell_type": "code",
   "execution_count": 52,
   "metadata": {},
   "outputs": [
    {
     "name": "stdout",
     "output_type": "stream",
     "text": [
      "{'1': '5. Pirates of the Caribbean: On Stranger Tides', '2': '2. Gods and Generals', '3': '3. Winnie the Pooh', '4': '2. 110', '5': '1. 107', '6': '5. Avatar', '7': '5. The Lone Ranger', '8': '1. 1478', '9': '4. The Dark Knight', '10': '5. The Lone Ranger', '11': '3. Drama', '12': '1. Drama', '13': '5. Peter Jackson', '14': '3. Robert Rodriguez', '15': '3. Chris Hemsworth', '16': '3. Matt Damon', '17': '2. Action', '18': '1. K-19: The Widowmaker', '19': '5. 2015', '20': '1. 2014', '21': '4. Сентябрь', '22': '2. 450', '23': '5. Peter Jackson', '24': '5. Four By Two Productions', '25': '3. Midnight Picture Show', '26': '1. Inside Out, The Dark Knight, 12 Years a Slave'}\n"
     ]
    }
   ],
   "source": [
    "answers['26'] = '1. Inside Out, The Dark Knight, 12 Years a Slave'\n",
    "print(answers)"
   ]
  },
  {
   "cell_type": "code",
   "execution_count": 65,
   "metadata": {},
   "outputs": [
    {
     "data": {
      "text/plain": [
       "599                                   The Dark Knight\n",
       "125                                The Imitation Game\n",
       "9                                          Inside Out\n",
       "118                                      Interstellar\n",
       "34                                               Room\n",
       "1081    The Lord of the Rings: The Return of the King\n",
       "138                          The Grand Budapest Hotel\n",
       "1183                          The Wolf of Wall Street\n",
       "370                                         Inception\n",
       "119                           Guardians of the Galaxy\n",
       "1800                                          Memento\n",
       "128                                         Gone Girl\n",
       "872                                       The Pianist\n",
       "1191                                 12 Years a Slave\n",
       "283                                        Mr. Nobody\n",
       "1688                              There Will Be Blood\n",
       "863             The Lord of the Rings: The Two Towers\n",
       "155                          The Theory of Everything\n",
       "1563            Eternal Sunshine of the Spotless Mind\n",
       "Name: original_title, dtype: object"
      ]
     },
     "execution_count": 65,
     "metadata": {},
     "output_type": "execute_result"
    }
   ],
   "source": [
    "# checking how many movies are in this 1%\n",
    "one_percent = int(round(data['original_title'].count()/100)) #19\n",
    "data.iloc[data['vote_average'].sort_values(ascending=False).index].head(one_percent)['original_title']\n",
    "# showing who are those 19 ones"
   ]
  },
  {
   "cell_type": "markdown",
   "metadata": {
    "colab_type": "text",
    "id": "MdXsUXbCVqAV"
   },
   "source": [
    "# 27. Какие актеры чаще всего снимаются в одном фильме вместе?\n"
   ]
  },
  {
   "cell_type": "code",
   "execution_count": 62,
   "metadata": {},
   "outputs": [
    {
     "name": "stdout",
     "output_type": "stream",
     "text": [
      "{'1': '5. Pirates of the Caribbean: On Stranger Tides', '2': '2. Gods and Generals', '3': '3. Winnie the Pooh', '4': '2. 110', '5': '1. 107', '6': '5. Avatar', '7': '5. The Lone Ranger', '8': '1. 1478', '9': '4. The Dark Knight', '10': '5. The Lone Ranger', '11': '3. Drama', '12': '1. Drama', '13': '5. Peter Jackson', '14': '3. Robert Rodriguez', '15': '3. Chris Hemsworth', '16': '3. Matt Damon', '17': '2. Action', '18': '1. K-19: The Widowmaker', '19': '5. 2015', '20': '1. 2014', '21': '4. Сентябрь', '22': '2. 450', '23': '5. Peter Jackson', '24': '5. Four By Two Productions', '25': '3. Midnight Picture Show', '26': '1. Inside Out, The Dark Knight, 12 Years a Slave', '27': 'Daniel Radcliffe, Rupert Grint'}\n"
     ]
    }
   ],
   "source": [
    "answers['27'] = 'Daniel Radcliffe, Rupert Grint'\n",
    "print(answers)"
   ]
  },
  {
   "cell_type": "code",
   "execution_count": 61,
   "metadata": {},
   "outputs": [
    {
     "data": {
      "text/plain": [
       "Daniel Radcliffe    8.0\n",
       "dtype: float64"
      ]
     },
     "execution_count": 61,
     "metadata": {},
     "output_type": "execute_result"
    }
   ],
   "source": [
    "# 2. Select two lists with the highests ratio of repeats\n",
    "# я знаю что это уродливо и костыльно, но решать по-другому уже не было нервов :(\n",
    "data = pd.read_csv('movie_bd_v5.csv')\n",
    "\n",
    "# dict we fill with the unique actors names and their coleagues from the common movies\n",
    "cast_dict = {}\n",
    "\n",
    "data['cast'].apply(cast_corresponder)\n",
    "\n",
    "coupled_dict = {}\n",
    "# filling up a coupled_dict with an Actor as a key and his most frequent co-actor as a key \n",
    "# of a nested dict and number of their co-occurences as a value of a nested dict\n",
    "for a in cast_dict:\n",
    "    coupled_dict[a]={pd.Series(cast_dict[a].split('|')).value_counts()\n",
    "                     [1:2].index[0]:pd.Series(cast_dict[a].split('|')).value_counts()[1:2][0]}\n",
    "\n",
    "# conversion to the DF, for more convenient sorting and slicing\n",
    "coupled_df = pd.DataFrame(coupled_dict)\n",
    "coupled_df.max().sort_values(ascending=False)[0:1] # here is our champion - Potter"
   ]
  },
  {
   "cell_type": "code",
   "execution_count": 58,
   "metadata": {},
   "outputs": [
    {
     "data": {
      "text/plain": [
       "Rupert Grint    8.0\n",
       "Name: Daniel Radcliffe, dtype: float64"
      ]
     },
     "execution_count": 58,
     "metadata": {},
     "output_type": "execute_result"
    }
   ],
   "source": [
    "coupled_df['Daniel Radcliffe'].sort_values(ascending=False)[0:1] # his partner - Weasley, of course"
   ]
  },
  {
   "cell_type": "markdown",
   "metadata": {
    "colab_type": "text",
    "id": "U0nONFnGVqAX"
   },
   "source": [
    "# Submission"
   ]
  },
  {
   "cell_type": "code",
   "execution_count": 63,
   "metadata": {
    "colab": {},
    "colab_type": "code",
    "id": "IfcaRO9-VqAX",
    "outputId": "0f132912-32bb-4196-c98c-abfbc4ad5a5f"
   },
   "outputs": [
    {
     "data": {
      "text/plain": [
       "{'1': '5. Pirates of the Caribbean: On Stranger Tides',\n",
       " '2': '2. Gods and Generals',\n",
       " '3': '3. Winnie the Pooh',\n",
       " '4': '2. 110',\n",
       " '5': '1. 107',\n",
       " '6': '5. Avatar',\n",
       " '7': '5. The Lone Ranger',\n",
       " '8': '1. 1478',\n",
       " '9': '4. The Dark Knight',\n",
       " '10': '5. The Lone Ranger',\n",
       " '11': '3. Drama',\n",
       " '12': '1. Drama',\n",
       " '13': '5. Peter Jackson',\n",
       " '14': '3. Robert Rodriguez',\n",
       " '15': '3. Chris Hemsworth',\n",
       " '16': '3. Matt Damon',\n",
       " '17': '2. Action',\n",
       " '18': '1. K-19: The Widowmaker',\n",
       " '19': '5. 2015',\n",
       " '20': '1. 2014',\n",
       " '21': '4. Сентябрь',\n",
       " '22': '2. 450',\n",
       " '23': '5. Peter Jackson',\n",
       " '24': '5. Four By Two Productions',\n",
       " '25': '3. Midnight Picture Show',\n",
       " '26': '1. Inside Out, The Dark Knight, 12 Years a Slave',\n",
       " '27': 'Daniel Radcliffe, Rupert Grint'}"
      ]
     },
     "execution_count": 63,
     "metadata": {},
     "output_type": "execute_result"
    }
   ],
   "source": [
    "# в конце можно посмотреть свои ответы к каждому вопросу\n",
    "answers    # all correct"
   ]
  },
  {
   "cell_type": "code",
   "execution_count": 64,
   "metadata": {
    "colab": {},
    "colab_type": "code",
    "id": "SiRmHPl8VqAd"
   },
   "outputs": [
    {
     "data": {
      "text/plain": [
       "27"
      ]
     },
     "execution_count": 64,
     "metadata": {},
     "output_type": "execute_result"
    }
   ],
   "source": [
    "# и убедиться что ни чего не пропустил)\n",
    "len(answers)"
   ]
  }
 ],
 "metadata": {
  "colab": {
   "name": "Copy of [SF-DST] Movies IMBD v4.1 TEMPLATE.ipynb",
   "provenance": []
  },
  "kernelspec": {
   "display_name": "Python 3",
   "language": "python",
   "name": "python3"
  },
  "language_info": {
   "codemirror_mode": {
    "name": "ipython",
    "version": 3
   },
   "file_extension": ".py",
   "mimetype": "text/x-python",
   "name": "python",
   "nbconvert_exporter": "python",
   "pygments_lexer": "ipython3",
   "version": "3.8.3"
  }
 },
 "nbformat": 4,
 "nbformat_minor": 4
}
