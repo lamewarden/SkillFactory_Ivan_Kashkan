{
 "cells": [
  {
   "cell_type": "code",
   "execution_count": 61,
   "metadata": {},
   "outputs": [],
   "source": [
    "def game_core_v3(number):\n",
    "    '''Функция по угадыванию чисел. Начинает анализ ровно с середины range\n",
    "    и последовательно сужает область в два раза на каждом шагу.'''\n",
    "    predict = 50   # логичнее начать поиск с середины нашего range\n",
    "    increment = 50   # размер оставшегося сектора, где лежит угадываемое число \n",
    "    while number != predict:\n",
    "        count+=1\n",
    "        if number > predict and increment > 1: \n",
    "            predict += round(increment/2) # определение нижней границы поиска\n",
    "            increment /= 2   # умешьшение сектора поиска в 2 раза\n",
    "        elif number > predict and increment < 1:\n",
    "            predict += 1   # иначе функция уйдет в бесконечный цикл\n",
    "        elif number < predict and increment > 1: # определение верхней границы поиска\n",
    "            predict -= round(increment/2)\n",
    "            increment /= 2\n",
    "        else:\n",
    "            predict -= 1\n",
    "    return(count) # выход из цикла, если угадали"
   ]
  },
  {
   "cell_type": "code",
   "execution_count": 26,
   "metadata": {},
   "outputs": [],
   "source": [
    "import numpy as np\n",
    "\n",
    "def score_game(game_core):\n",
    "    '''Запускаем игру 1000 раз, чтобы узнать, как быстро игра угадывает число'''\n",
    "    count_ls = []\n",
    "    np.random.seed(1)  # фиксируем RANDOM SEED, чтобы ваш эксперимент был воспроизводим!\n",
    "    random_array = np.random.randint(1,101, size=(1000))\n",
    "    for number in random_array:\n",
    "        count_ls.append(game_core(number))\n",
    "    score = int(np.mean(count_ls))\n",
    "    print(f\"Ваш алгоритм угадывает число в среднем за {score} попыток\")\n",
    "    return(score)"
   ]
  },
  {
   "cell_type": "code",
   "execution_count": 62,
   "metadata": {},
   "outputs": [
    {
     "name": "stdout",
     "output_type": "stream",
     "text": [
      "Ваш алгоритм угадывает число в среднем за 5 попыток\n"
     ]
    },
    {
     "data": {
      "text/plain": [
       "5"
      ]
     },
     "execution_count": 62,
     "metadata": {},
     "output_type": "execute_result"
    }
   ],
   "source": [
    "# Проверяем\n",
    "score_game(game_core_v3)"
   ]
  },
  {
   "cell_type": "code",
   "execution_count": null,
   "metadata": {},
   "outputs": [],
   "source": []
  }
 ],
 "metadata": {
  "kernelspec": {
   "display_name": "Python 3",
   "language": "python",
   "name": "python3"
  },
  "language_info": {
   "codemirror_mode": {
    "name": "ipython",
    "version": 3
   },
   "file_extension": ".py",
   "mimetype": "text/x-python",
   "name": "python",
   "nbconvert_exporter": "python",
   "pygments_lexer": "ipython3",
   "version": "3.8.3"
  }
 },
 "nbformat": 4,
 "nbformat_minor": 4
}
